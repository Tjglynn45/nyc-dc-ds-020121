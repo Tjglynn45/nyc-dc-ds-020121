{
 "cells": [
  {
   "cell_type": "markdown",
   "metadata": {},
   "source": [
    "# Getting Your Data From Yelp!"
   ]
  },
  {
   "cell_type": "markdown",
   "metadata": {},
   "source": [
    "In order to make sure you are on track to completing the project, you will complete this workbook first. Below are steps that you need to take in order to make sure you have your data from yelp and are ready to analyze it. Your cohort lead will review this workbook with you the Wednesday before your project is due.    "
   ]
  },
  {
   "cell_type": "markdown",
   "metadata": {},
   "source": [
    "## Part 1 - Understanding your data and question\n",
    "\n",
    "You will be pulling data from the Yelp API to complete your analysis. The api, however, provides you with a lot of information that will not be pertinent to your analysis. YOu will pull data from the api and parse through it to keep only the data that you will need. In order to help you identify that information,look at the API documentation and understand what data the api will provide you. \n",
    "\n",
    "Identify which data fields you will want to keep for your analysis. \n",
    "\n",
    "https://www.yelp.com/developers/documentation/v3/get_started"
   ]
  },
  {
   "cell_type": "markdown",
   "metadata": {},
   "source": [
    "___"
   ]
  },
  {
   "cell_type": "markdown",
   "metadata": {},
   "source": [
    "## Part 2 - Create ETL pipeline for the business data from the API\n",
    "\n",
    "Now that you know what data you need from the API, you want to write code that will execute a api call, parse those results and then insert the results into the DB.  \n",
    "\n",
    "It is helpful to break this up into three different functions (*api call, parse results, and insert into DB*) and then you can write a function/script that pull the other three functions together. \n",
    "\n",
    "Let's first do this for the Business endpoint."
   ]
  },
  {
   "cell_type": "markdown",
   "metadata": {},
   "source": [
    "- Write a function to make a call to the yelp API"
   ]
  },
  {
   "cell_type": "code",
   "execution_count": null,
   "metadata": {},
   "outputs": [],
   "source": [
    "def yelp_call(url_params, api_key):\n",
    "    # your code to make the yelp call\n",
    "    return data"
   ]
  },
  {
   "cell_type": "markdown",
   "metadata": {},
   "source": [
    "- Write a function to parse the API response so that you can easily insert the data in to the DB"
   ]
  },
  {
   "cell_type": "code",
   "execution_count": null,
   "metadata": {},
   "outputs": [],
   "source": [
    "def parse_results(results):\n",
    "    # your code to parse the result to make them easier to insert into the DB\n",
    "    return parsed_results"
   ]
  },
  {
   "cell_type": "markdown",
   "metadata": {},
   "source": [
    "- Write a function to take your parsed data and add it to the csv file where you will store all of your results. "
   ]
  },
  {
   "cell_type": "code",
   "execution_count": null,
   "metadata": {},
   "outputs": [],
   "source": [
    "def df_save(csv filepath, parsed results):\n",
    "    # your code to open the csv file, concat the current data, and save the data. \n"
   ]
  },
  {
   "cell_type": "markdown",
   "metadata": {},
   "source": [
    "- Write a script that combines the three functions above into a single process."
   ]
  },
  {
   "cell_type": "markdown",
   "metadata": {},
   "source": [
    "While it will take some experimentation to write the functions above, once you get them working it will be best to put them in a `.py` file and then import the functions to use in a script "
   ]
  },
  {
   "cell_type": "code",
   "execution_count": null,
   "metadata": {},
   "outputs": [],
   "source": [
    "from helper_funcs import *"
   ]
  },
  {
   "cell_type": "code",
   "execution_count": null,
   "metadata": {},
   "outputs": [],
   "source": [
    "\n",
    "\n",
    "# create a variable  to keep track of which result you are in. \n",
    "cur = 0\n",
    "\n",
    "#set up a while loop to go through and grab the result \n",
    "while cur < num and cur < 1000:\n",
    "    #set the offset parameter to be where you currently are in the results \n",
    "    url_params['offset'] = cur\n",
    "    #make your API call with the new offset number\n",
    "    results = yelp_call(url_params, api_key)\n",
    "    \n",
    "    #after you get your results you can now use your function to parse those results\n",
    "    parsed_results = parse_results(results)\n",
    "    \n",
    "    # use your function to insert your parsed results into the db\n",
    "    df_save(parsed_results)\n",
    "    #increment the counter by 50 to move on to the next results\n",
    "    cur += 20"
   ]
  },
  {
   "cell_type": "markdown",
   "metadata": {},
   "source": [
    "___"
   ]
  },
  {
   "cell_type": "markdown",
   "metadata": {},
   "source": [
    "## Part 3 -  Create ETL pipeline for the restaurant review data from the API\n",
    "\n",
    "You've done this for the Businesses, now you need to do this for reviews. You will follow the same process, but your functions will be specific to reviews. Above you ahve a model of the functions you will need to write, and how to pull them together in one script. For this part, you ahve the process below "
   ]
  },
  {
   "cell_type": "markdown",
   "metadata": {},
   "source": [
    "- In order to pull the reveiws, you will need the business ids. So your first step will be to get all of the business ids from your businesses csv. "
   ]
  },
  {
   "cell_type": "markdown",
   "metadata": {},
   "source": [
    "- Write a function that takes a business id and makes a call to the API for reivews\n"
   ]
  },
  {
   "cell_type": "markdown",
   "metadata": {},
   "source": [
    "- Write a function to parse out the relevant information from the reviews"
   ]
  },
  {
   "cell_type": "markdown",
   "metadata": {},
   "source": [
    "- Write a function to save the parse data into a csv file containing all of the reviews. "
   ]
  },
  {
   "cell_type": "markdown",
   "metadata": {},
   "source": [
    "- Combine the functions above into a single script  "
   ]
  },
  {
   "cell_type": "markdown",
   "metadata": {},
   "source": [
    "___"
   ]
  },
  {
   "cell_type": "markdown",
   "metadata": {},
   "source": [
    "## Part 4 -  Using python and pandas, write code to answer the questions below. \n",
    "\n",
    "\n",
    "- Which are the 5 most reviewed businesses in your dataset?\n",
    "- What is the highest rating recieved in your data set and how many businesses have that rating?\n",
    "- What percentage of businesses have a rating greater than or  4.5?\n",
    "- What percentage of businesses have a rating less than 3?\n",
    "- What percentage of your businesseshave a price label of one dollar sign? Two dollar signs? Three dollar signs? No dollar signs?\n",
    "- Return the text of the reviews for the most reviewed business. \n",
    "- Find the highest rated business and return text of the most recent review. If multiple business have the same rating, select the business with the most reviews. \n",
    "- Find the lowest rated business and return text of the most recent review.  If multiple business have the same rating, select the business with the least reviews. \n"
   ]
  },
  {
   "cell_type": "code",
   "execution_count": 1,
   "metadata": {},
   "outputs": [],
   "source": [
    "import requests\n",
    "import json\n",
    "import sys\n",
    "import pandas as pd\n",
    "import numpy as np\n",
    "\n",
    "Boston_Reviews=pd.read_csv('Final_Boston_Data.csv')\n",
    "Denver_Reviews=pd.read_csv('Final_Denver_Data.csv')\n",
    "Boston_data = pd.read_csv('Subs_Boston.csv')\n",
    "Denver_data = pd.read_csv('Subs_Denver.csv')"
   ]
  },
  {
   "cell_type": "code",
   "execution_count": 15,
   "metadata": {},
   "outputs": [
    {
     "data": {
      "text/plain": [
       "Index(['name', 'zipcode', 'rating', 'review count', 'categories', 'delivery',\n",
       "       'distance', 'price', 'Name', 'Zip Code', 'Buisness Rating',\n",
       "       'Review Count', 'Categories', 'Delivery', 'Distance', 'Price', 'RId',\n",
       "       'Text', 'Rating'],\n",
       "      dtype='object')"
      ]
     },
     "execution_count": 15,
     "metadata": {},
     "output_type": "execute_result"
    }
   ],
   "source": [
    "Final.keys()"
   ]
  },
  {
   "cell_type": "code",
   "execution_count": 2,
   "metadata": {},
   "outputs": [],
   "source": [
    "Frames=[Denver_data,Boston_data]\n",
    "FinalData= pd.concat(Frames)\n",
    "FinalData.set_index('id', inplace = True)\n",
    "FinalData.to_csv('Final_Data')\n"
   ]
  },
  {
   "cell_type": "code",
   "execution_count": 3,
   "metadata": {},
   "outputs": [],
   "source": [
    "Boston_Reviews.set_index('id',inplace=True)\n",
    "Denver_Reviews.set_index('id',inplace=True)\n",
    "FinalReview=pd.concat([Boston_Reviews,Denver_Reviews])\n",
    "FinalReview.drop(['Unnamed: 0'],axis = 1, inplace=True)\n",
    "FinalReview.to_csv('Final_Review')"
   ]
  },
  {
   "cell_type": "code",
   "execution_count": 12,
   "metadata": {},
   "outputs": [],
   "source": [
    "Final = FinalData.join(FinalReview)\n"
   ]
  },
  {
   "cell_type": "code",
   "execution_count": 42,
   "metadata": {},
   "outputs": [
    {
     "data": {
      "text/html": [
       "<div>\n",
       "<style scoped>\n",
       "    .dataframe tbody tr th:only-of-type {\n",
       "        vertical-align: middle;\n",
       "    }\n",
       "\n",
       "    .dataframe tbody tr th {\n",
       "        vertical-align: top;\n",
       "    }\n",
       "\n",
       "    .dataframe thead th {\n",
       "        text-align: right;\n",
       "    }\n",
       "</style>\n",
       "<table border=\"1\" class=\"dataframe\">\n",
       "  <thead>\n",
       "    <tr style=\"text-align: right;\">\n",
       "      <th></th>\n",
       "      <th>name</th>\n",
       "      <th>zipcode</th>\n",
       "      <th>rating</th>\n",
       "      <th>review count</th>\n",
       "      <th>categories</th>\n",
       "      <th>delivery</th>\n",
       "      <th>distance</th>\n",
       "      <th>price</th>\n",
       "      <th>Name</th>\n",
       "      <th>Zip Code</th>\n",
       "      <th>Buisness Rating</th>\n",
       "      <th>Review Count</th>\n",
       "      <th>Categories</th>\n",
       "      <th>Delivery</th>\n",
       "      <th>Distance</th>\n",
       "      <th>Price</th>\n",
       "      <th>RId</th>\n",
       "      <th>Text</th>\n",
       "      <th>Rating</th>\n",
       "    </tr>\n",
       "    <tr>\n",
       "      <th>id</th>\n",
       "      <th></th>\n",
       "      <th></th>\n",
       "      <th></th>\n",
       "      <th></th>\n",
       "      <th></th>\n",
       "      <th></th>\n",
       "      <th></th>\n",
       "      <th></th>\n",
       "      <th></th>\n",
       "      <th></th>\n",
       "      <th></th>\n",
       "      <th></th>\n",
       "      <th></th>\n",
       "      <th></th>\n",
       "      <th></th>\n",
       "      <th></th>\n",
       "      <th></th>\n",
       "      <th></th>\n",
       "      <th></th>\n",
       "    </tr>\n",
       "  </thead>\n",
       "  <tbody>\n",
       "    <tr>\n",
       "      <th>-5iF6s8wJbGd9R2CVd5bvg</th>\n",
       "      <td>Walter's303 - Lowry</td>\n",
       "      <td>80230</td>\n",
       "      <td>4.5</td>\n",
       "      <td>65</td>\n",
       "      <td>pizza</td>\n",
       "      <td>True</td>\n",
       "      <td>6047.360139</td>\n",
       "      <td>$$</td>\n",
       "      <td>Walter's303 - Lowry</td>\n",
       "      <td>80230</td>\n",
       "      <td>4.5</td>\n",
       "      <td>65</td>\n",
       "      <td>pizza</td>\n",
       "      <td>True</td>\n",
       "      <td>6047.360139</td>\n",
       "      <td>$$</td>\n",
       "      <td>gZKAshyFZzbFcByZUJyPYg</td>\n",
       "      <td>Ive just done my second round of the Broadway Market to-go offerings and they are crushing it with the pivot towards takeaway post shut down. \\n-Ordering was...</td>\n",
       "      <td>5.0</td>\n",
       "    </tr>\n",
       "    <tr>\n",
       "      <th>-5iF6s8wJbGd9R2CVd5bvg</th>\n",
       "      <td>Walter's303 - Lowry</td>\n",
       "      <td>80230</td>\n",
       "      <td>4.5</td>\n",
       "      <td>65</td>\n",
       "      <td>pizza</td>\n",
       "      <td>True</td>\n",
       "      <td>6047.360139</td>\n",
       "      <td>$$</td>\n",
       "      <td>Walter's303 - Lowry</td>\n",
       "      <td>80230</td>\n",
       "      <td>4.5</td>\n",
       "      <td>65</td>\n",
       "      <td>pizza</td>\n",
       "      <td>True</td>\n",
       "      <td>6047.360139</td>\n",
       "      <td>$$</td>\n",
       "      <td>zb7fvW5eJoNvDZdrcvtaAA</td>\n",
       "      <td>So glad to see this opening up again. Fewer items on the menus, but focussed on everyone's favorites. If you haven't been here before - there is something...</td>\n",
       "      <td>5.0</td>\n",
       "    </tr>\n",
       "    <tr>\n",
       "      <th>-5iF6s8wJbGd9R2CVd5bvg</th>\n",
       "      <td>Walter's303 - Lowry</td>\n",
       "      <td>80230</td>\n",
       "      <td>4.5</td>\n",
       "      <td>65</td>\n",
       "      <td>pizza</td>\n",
       "      <td>True</td>\n",
       "      <td>6047.360139</td>\n",
       "      <td>$$</td>\n",
       "      <td>Walter's303 - Lowry</td>\n",
       "      <td>80230</td>\n",
       "      <td>4.5</td>\n",
       "      <td>65</td>\n",
       "      <td>pizza</td>\n",
       "      <td>True</td>\n",
       "      <td>6047.360139</td>\n",
       "      <td>$$</td>\n",
       "      <td>ABRJUqm-E4i5J4wd7XBucg</td>\n",
       "      <td>Grabbed lunch here with the family a few times after a hike in the area and never any regrets.  Food is decent, sometimes really good ( like the...</td>\n",
       "      <td>4.0</td>\n",
       "    </tr>\n",
       "    <tr>\n",
       "      <th>-8u9P253kZlukUqbDXrPgA</th>\n",
       "      <td>Porter Cafe</td>\n",
       "      <td>2132</td>\n",
       "      <td>4.5</td>\n",
       "      <td>227</td>\n",
       "      <td>bars</td>\n",
       "      <td>True</td>\n",
       "      <td>9285.855793</td>\n",
       "      <td>$$</td>\n",
       "      <td>Porter Cafe</td>\n",
       "      <td>2132</td>\n",
       "      <td>4.5</td>\n",
       "      <td>227</td>\n",
       "      <td>bars</td>\n",
       "      <td>True</td>\n",
       "      <td>9285.855793</td>\n",
       "      <td>$$</td>\n",
       "      <td>KCPWZQqEOAz2F1myrRPnrg</td>\n",
       "      <td>Great burgers.  They don't do medium rare, even when asked how you want your burger.  But very tasty - grill taste.  Lots of TVs, great iced tea. The fries...</td>\n",
       "      <td>4.0</td>\n",
       "    </tr>\n",
       "    <tr>\n",
       "      <th>-8u9P253kZlukUqbDXrPgA</th>\n",
       "      <td>Porter Cafe</td>\n",
       "      <td>2132</td>\n",
       "      <td>4.5</td>\n",
       "      <td>227</td>\n",
       "      <td>bars</td>\n",
       "      <td>True</td>\n",
       "      <td>9285.855793</td>\n",
       "      <td>$$</td>\n",
       "      <td>Porter Cafe</td>\n",
       "      <td>2132</td>\n",
       "      <td>4.5</td>\n",
       "      <td>227</td>\n",
       "      <td>bars</td>\n",
       "      <td>True</td>\n",
       "      <td>9285.855793</td>\n",
       "      <td>$$</td>\n",
       "      <td>J-3-y86FXL4Lc0_yg3uilw</td>\n",
       "      <td>went in and got seated right away they have dividers if you want to sit at the bar. Inside is pretty dark but I enjoyed it.\\n\\nThe service was good. I got the...</td>\n",
       "      <td>4.0</td>\n",
       "    </tr>\n",
       "  </tbody>\n",
       "</table>\n",
       "</div>"
      ],
      "text/plain": [
       "                                       name  zipcode  rating  review count  \\\n",
       "id                                                                           \n",
       "-5iF6s8wJbGd9R2CVd5bvg  Walter's303 - Lowry    80230     4.5            65   \n",
       "-5iF6s8wJbGd9R2CVd5bvg  Walter's303 - Lowry    80230     4.5            65   \n",
       "-5iF6s8wJbGd9R2CVd5bvg  Walter's303 - Lowry    80230     4.5            65   \n",
       "-8u9P253kZlukUqbDXrPgA          Porter Cafe     2132     4.5           227   \n",
       "-8u9P253kZlukUqbDXrPgA          Porter Cafe     2132     4.5           227   \n",
       "\n",
       "                       categories  delivery     distance price  \\\n",
       "id                                                               \n",
       "-5iF6s8wJbGd9R2CVd5bvg      pizza      True  6047.360139    $$   \n",
       "-5iF6s8wJbGd9R2CVd5bvg      pizza      True  6047.360139    $$   \n",
       "-5iF6s8wJbGd9R2CVd5bvg      pizza      True  6047.360139    $$   \n",
       "-8u9P253kZlukUqbDXrPgA       bars      True  9285.855793    $$   \n",
       "-8u9P253kZlukUqbDXrPgA       bars      True  9285.855793    $$   \n",
       "\n",
       "                                       Name  Zip Code  Buisness Rating  \\\n",
       "id                                                                       \n",
       "-5iF6s8wJbGd9R2CVd5bvg  Walter's303 - Lowry     80230              4.5   \n",
       "-5iF6s8wJbGd9R2CVd5bvg  Walter's303 - Lowry     80230              4.5   \n",
       "-5iF6s8wJbGd9R2CVd5bvg  Walter's303 - Lowry     80230              4.5   \n",
       "-8u9P253kZlukUqbDXrPgA          Porter Cafe      2132              4.5   \n",
       "-8u9P253kZlukUqbDXrPgA          Porter Cafe      2132              4.5   \n",
       "\n",
       "                        Review Count Categories  Delivery     Distance Price  \\\n",
       "id                                                                             \n",
       "-5iF6s8wJbGd9R2CVd5bvg            65      pizza      True  6047.360139    $$   \n",
       "-5iF6s8wJbGd9R2CVd5bvg            65      pizza      True  6047.360139    $$   \n",
       "-5iF6s8wJbGd9R2CVd5bvg            65      pizza      True  6047.360139    $$   \n",
       "-8u9P253kZlukUqbDXrPgA           227       bars      True  9285.855793    $$   \n",
       "-8u9P253kZlukUqbDXrPgA           227       bars      True  9285.855793    $$   \n",
       "\n",
       "                                           RId  \\\n",
       "id                                               \n",
       "-5iF6s8wJbGd9R2CVd5bvg  gZKAshyFZzbFcByZUJyPYg   \n",
       "-5iF6s8wJbGd9R2CVd5bvg  zb7fvW5eJoNvDZdrcvtaAA   \n",
       "-5iF6s8wJbGd9R2CVd5bvg  ABRJUqm-E4i5J4wd7XBucg   \n",
       "-8u9P253kZlukUqbDXrPgA  KCPWZQqEOAz2F1myrRPnrg   \n",
       "-8u9P253kZlukUqbDXrPgA  J-3-y86FXL4Lc0_yg3uilw   \n",
       "\n",
       "                                                                                                                                                                                     Text  \\\n",
       "id                                                                                                                                                                                          \n",
       "-5iF6s8wJbGd9R2CVd5bvg   Ive just done my second round of the Broadway Market to-go offerings and they are crushing it with the pivot towards takeaway post shut down. \\n-Ordering was...   \n",
       "-5iF6s8wJbGd9R2CVd5bvg      So glad to see this opening up again. Fewer items on the menus, but focussed on everyone's favorites. If you haven't been here before - there is something...   \n",
       "-5iF6s8wJbGd9R2CVd5bvg                Grabbed lunch here with the family a few times after a hike in the area and never any regrets.  Food is decent, sometimes really good ( like the...   \n",
       "-8u9P253kZlukUqbDXrPgA     Great burgers.  They don't do medium rare, even when asked how you want your burger.  But very tasty - grill taste.  Lots of TVs, great iced tea. The fries...   \n",
       "-8u9P253kZlukUqbDXrPgA  went in and got seated right away they have dividers if you want to sit at the bar. Inside is pretty dark but I enjoyed it.\\n\\nThe service was good. I got the...   \n",
       "\n",
       "                        Rating  \n",
       "id                              \n",
       "-5iF6s8wJbGd9R2CVd5bvg     5.0  \n",
       "-5iF6s8wJbGd9R2CVd5bvg     5.0  \n",
       "-5iF6s8wJbGd9R2CVd5bvg     4.0  \n",
       "-8u9P253kZlukUqbDXrPgA     4.0  \n",
       "-8u9P253kZlukUqbDXrPgA     4.0  "
      ]
     },
     "execution_count": 42,
     "metadata": {},
     "output_type": "execute_result"
    }
   ],
   "source": [
    "Final.head()"
   ]
  },
  {
   "cell_type": "markdown",
   "metadata": {},
   "source": [
    "- Which are the 5 most reviewed businesses in your dataset?"
   ]
  },
  {
   "cell_type": "code",
   "execution_count": 13,
   "metadata": {},
   "outputs": [
    {
     "data": {
      "text/html": [
       "<div>\n",
       "<style scoped>\n",
       "    .dataframe tbody tr th:only-of-type {\n",
       "        vertical-align: middle;\n",
       "    }\n",
       "\n",
       "    .dataframe tbody tr th {\n",
       "        vertical-align: top;\n",
       "    }\n",
       "\n",
       "    .dataframe thead th {\n",
       "        text-align: right;\n",
       "    }\n",
       "</style>\n",
       "<table border=\"1\" class=\"dataframe\">\n",
       "  <thead>\n",
       "    <tr style=\"text-align: right;\">\n",
       "      <th></th>\n",
       "      <th>name</th>\n",
       "      <th>zipcode</th>\n",
       "      <th>rating</th>\n",
       "      <th>review count</th>\n",
       "      <th>categories</th>\n",
       "      <th>delivery</th>\n",
       "      <th>distance</th>\n",
       "      <th>price</th>\n",
       "    </tr>\n",
       "    <tr>\n",
       "      <th>id</th>\n",
       "      <th></th>\n",
       "      <th></th>\n",
       "      <th></th>\n",
       "      <th></th>\n",
       "      <th></th>\n",
       "      <th></th>\n",
       "      <th></th>\n",
       "      <th></th>\n",
       "    </tr>\n",
       "  </thead>\n",
       "  <tbody>\n",
       "    <tr>\n",
       "      <th>y2w6rFaO0XEiG5mFfOsiFA</th>\n",
       "      <td>Neptune Oyster</td>\n",
       "      <td>2113</td>\n",
       "      <td>4.5</td>\n",
       "      <td>5122</td>\n",
       "      <td>seafood</td>\n",
       "      <td>True</td>\n",
       "      <td>2122.402939</td>\n",
       "      <td>$$$</td>\n",
       "    </tr>\n",
       "    <tr>\n",
       "      <th>2u_w3rthRzR2uEihW5BC4A</th>\n",
       "      <td>Giacomo's Ristorante - Boston</td>\n",
       "      <td>2113</td>\n",
       "      <td>4.0</td>\n",
       "      <td>3523</td>\n",
       "      <td>italian</td>\n",
       "      <td>True</td>\n",
       "      <td>2372.466569</td>\n",
       "      <td>$$</td>\n",
       "    </tr>\n",
       "    <tr>\n",
       "      <th>Z8vO_mf1V09QDUPdyqJ6og</th>\n",
       "      <td>Linger</td>\n",
       "      <td>80211</td>\n",
       "      <td>4.0</td>\n",
       "      <td>3396</td>\n",
       "      <td>asianfusion</td>\n",
       "      <td>True</td>\n",
       "      <td>4414.859401</td>\n",
       "      <td>$$</td>\n",
       "    </tr>\n",
       "    <tr>\n",
       "      <th>Ruq91rmQNweZ78TzKylQMg</th>\n",
       "      <td>Union Oyster House</td>\n",
       "      <td>2108</td>\n",
       "      <td>3.5</td>\n",
       "      <td>2830</td>\n",
       "      <td>seafood</td>\n",
       "      <td>True</td>\n",
       "      <td>1898.855068</td>\n",
       "      <td>$$</td>\n",
       "    </tr>\n",
       "    <tr>\n",
       "      <th>CQNv4SXqFltcwNsx-qHbLQ</th>\n",
       "      <td>Steuben's Uptown</td>\n",
       "      <td>80203</td>\n",
       "      <td>4.0</td>\n",
       "      <td>2763</td>\n",
       "      <td>diners</td>\n",
       "      <td>True</td>\n",
       "      <td>1248.921898</td>\n",
       "      <td>$$</td>\n",
       "    </tr>\n",
       "  </tbody>\n",
       "</table>\n",
       "</div>"
      ],
      "text/plain": [
       "                                                 name  zipcode  rating  \\\n",
       "id                                                                       \n",
       "y2w6rFaO0XEiG5mFfOsiFA                 Neptune Oyster     2113     4.5   \n",
       "2u_w3rthRzR2uEihW5BC4A  Giacomo's Ristorante - Boston     2113     4.0   \n",
       "Z8vO_mf1V09QDUPdyqJ6og                         Linger    80211     4.0   \n",
       "Ruq91rmQNweZ78TzKylQMg             Union Oyster House     2108     3.5   \n",
       "CQNv4SXqFltcwNsx-qHbLQ               Steuben's Uptown    80203     4.0   \n",
       "\n",
       "                        review count   categories  delivery     distance price  \n",
       "id                                                                              \n",
       "y2w6rFaO0XEiG5mFfOsiFA          5122      seafood      True  2122.402939   $$$  \n",
       "2u_w3rthRzR2uEihW5BC4A          3523      italian      True  2372.466569    $$  \n",
       "Z8vO_mf1V09QDUPdyqJ6og          3396  asianfusion      True  4414.859401    $$  \n",
       "Ruq91rmQNweZ78TzKylQMg          2830      seafood      True  1898.855068    $$  \n",
       "CQNv4SXqFltcwNsx-qHbLQ          2763       diners      True  1248.921898    $$  "
      ]
     },
     "execution_count": 13,
     "metadata": {},
     "output_type": "execute_result"
    }
   ],
   "source": [
    "\n",
    "FinalData.sort_values('review count',ascending=False).head(n=5)"
   ]
  },
  {
   "cell_type": "markdown",
   "metadata": {},
   "source": [
    "- What is the highest rating recieved in your data set and how many businesses have that rating?"
   ]
  },
  {
   "cell_type": "code",
   "execution_count": 5,
   "metadata": {},
   "outputs": [],
   "source": [
    "\n",
    "FinalData[FinalData['rating'] == FinalData['rating'].max()]\n",
    "leng=len(FinalData[FinalData['rating'] == FinalData['rating'].max()])\n",
    "#Highest Rating received in my data set is 5.0 and there are 46 businesses that have that rating"
   ]
  },
  {
   "cell_type": "markdown",
   "metadata": {},
   "source": [
    "- What percentage of businesses have a rating greater than or  4.5?\n",
    "About 17.55% of buisnesses ratings are 4.5 or higher"
   ]
  },
  {
   "cell_type": "code",
   "execution_count": 6,
   "metadata": {
    "scrolled": true
   },
   "outputs": [
    {
     "data": {
      "text/plain": [
       "17.551704863051985"
      ]
     },
     "execution_count": 6,
     "metadata": {},
     "output_type": "execute_result"
    }
   ],
   "source": [
    "drp2=FinalData[(FinalData['rating'] < 4.5 )].index\n",
    "DR = len(FinalData.drop(drp2,inplace=False))\n",
    "(DR/ FinalData.shape[0])*100"
   ]
  },
  {
   "cell_type": "markdown",
   "metadata": {},
   "source": [
    "- What percentage of businesses have a rating less than 3?\n",
    " About 6.2% of buisnesses ratings are less than 3"
   ]
  },
  {
   "cell_type": "code",
   "execution_count": 7,
   "metadata": {},
   "outputs": [
    {
     "data": {
      "text/plain": [
       "6.204583566238122"
      ]
     },
     "execution_count": 7,
     "metadata": {},
     "output_type": "execute_result"
    }
   ],
   "source": [
    "drp2=FinalData[(FinalData['rating'] >= 3 )].index\n",
    "DR = len(FinalData.drop(drp2,inplace=False))\n",
    "(DR/FinalData.shape[0])*100"
   ]
  },
  {
   "cell_type": "markdown",
   "metadata": {},
   "source": [
    "- What percentage of your businesses have a price label of one dollar sign? Two dollar signs? Three dollar signs? No dollar signs?"
   ]
  },
  {
   "cell_type": "code",
   "execution_count": 8,
   "metadata": {},
   "outputs": [
    {
     "data": {
      "text/plain": [
       "$$      81.338481\n",
       "$        8.815959\n",
       "$$$      8.687259\n",
       "$$$$     1.158301\n",
       "Name: price, dtype: float64"
      ]
     },
     "execution_count": 8,
     "metadata": {},
     "output_type": "execute_result"
    }
   ],
   "source": [
    "FinalData['price'].value_counts(normalize=True)*100"
   ]
  },
  {
   "cell_type": "markdown",
   "metadata": {},
   "source": [
    "- Return the text of the reviews for the most reviewed business."
   ]
  },
  {
   "cell_type": "code",
   "execution_count": 40,
   "metadata": {},
   "outputs": [
    {
     "data": {
      "text/html": [
       "<div>\n",
       "<style scoped>\n",
       "    .dataframe tbody tr th:only-of-type {\n",
       "        vertical-align: middle;\n",
       "    }\n",
       "\n",
       "    .dataframe tbody tr th {\n",
       "        vertical-align: top;\n",
       "    }\n",
       "\n",
       "    .dataframe thead th {\n",
       "        text-align: right;\n",
       "    }\n",
       "</style>\n",
       "<table border=\"1\" class=\"dataframe\">\n",
       "  <thead>\n",
       "    <tr style=\"text-align: right;\">\n",
       "      <th></th>\n",
       "      <th>review count</th>\n",
       "      <th>Text</th>\n",
       "    </tr>\n",
       "    <tr>\n",
       "      <th>id</th>\n",
       "      <th></th>\n",
       "      <th></th>\n",
       "    </tr>\n",
       "  </thead>\n",
       "  <tbody>\n",
       "    <tr>\n",
       "      <th>y2w6rFaO0XEiG5mFfOsiFA</th>\n",
       "      <td>5122</td>\n",
       "      <td>Limited outdoor dining during COVID. Waited about 40 mins even on a weekday afternoon. \\n\\nOysters - Kumamoto and Kusshi were really small oysters but my...</td>\n",
       "    </tr>\n",
       "    <tr>\n",
       "      <th>y2w6rFaO0XEiG5mFfOsiFA</th>\n",
       "      <td>5122</td>\n",
       "      <td>We were up here in July 2020, at the height of COVID, I guess?  The city had just opened up indoor dining again.  I don't know what this tiny street looked...</td>\n",
       "    </tr>\n",
       "    <tr>\n",
       "      <th>y2w6rFaO0XEiG5mFfOsiFA</th>\n",
       "      <td>5122</td>\n",
       "      <td>Neptune was one of the places that gets highly recommended by everyone.., and usually I'm quite skeptical of overhyped up places. Boy was I in for a rude...</td>\n",
       "    </tr>\n",
       "  </tbody>\n",
       "</table>\n",
       "</div>"
      ],
      "text/plain": [
       "                        review count  \\\n",
       "id                                     \n",
       "y2w6rFaO0XEiG5mFfOsiFA          5122   \n",
       "y2w6rFaO0XEiG5mFfOsiFA          5122   \n",
       "y2w6rFaO0XEiG5mFfOsiFA          5122   \n",
       "\n",
       "                                                                                                                                                                                  Text  \n",
       "id                                                                                                                                                                                      \n",
       "y2w6rFaO0XEiG5mFfOsiFA    Limited outdoor dining during COVID. Waited about 40 mins even on a weekday afternoon. \\n\\nOysters - Kumamoto and Kusshi were really small oysters but my...  \n",
       "y2w6rFaO0XEiG5mFfOsiFA  We were up here in July 2020, at the height of COVID, I guess?  The city had just opened up indoor dining again.  I don't know what this tiny street looked...  \n",
       "y2w6rFaO0XEiG5mFfOsiFA    Neptune was one of the places that gets highly recommended by everyone.., and usually I'm quite skeptical of overhyped up places. Boy was I in for a rude...  "
      ]
     },
     "execution_count": 40,
     "metadata": {},
     "output_type": "execute_result"
    }
   ],
   "source": [
    "Final.sort_values('review count',ascending=False)[0:3][['review count','Text']]"
   ]
  },
  {
   "cell_type": "markdown",
   "metadata": {},
   "source": [
    "- Find the highest rated business and return text of the most recent review. If multiple business have the same rating, select the business with the most reviews."
   ]
  },
  {
   "cell_type": "code",
   "execution_count": 25,
   "metadata": {},
   "outputs": [
    {
     "data": {
      "text/plain": [
       "name\n",
       "Portico Eritrean and Ethiopian Restaurant and Bar    5.0\n",
       "Tambo 22                                             5.0\n",
       "Servia                                               5.0\n",
       "Piante Pizzeria                                      5.0\n",
       "The Peaks Bar & Grill                                5.0\n",
       "                                                    ... \n",
       "Colorado Bar & Grill                                 1.5\n",
       "Zink Bar + Patio                                     1.5\n",
       "Chili's Grill and Bar                                1.0\n",
       "Montview Bar & Grill                                 1.0\n",
       "Hennessey                                            1.0\n",
       "Name: rating, Length: 1623, dtype: float64"
      ]
     },
     "execution_count": 25,
     "metadata": {},
     "output_type": "execute_result"
    }
   ],
   "source": [
    "Final.groupby('name')['rating'].mean().sort_values(ascending=False)"
   ]
  },
  {
   "cell_type": "code",
   "execution_count": 38,
   "metadata": {},
   "outputs": [
    {
     "data": {
      "text/plain": [
       "id\n",
       "YgVGY2fE_E_7Dz7LvZYNvA    I never thought take-out roasted chicken could be so delicious.  Dad gum!  Mmmm mmm.\\n\\nThis Aussie-inspired local chicken chain from the founders of Snooze...\n",
       "Name: Text, dtype: object"
      ]
     },
     "execution_count": 38,
     "metadata": {},
     "output_type": "execute_result"
    }
   ],
   "source": [
    "pd.set_option('display.max_colwidth', None)\n",
    "Final.loc[Final['rating']==Final['rating'].max()].sort_values(by='review count',ascending=False).head(1)['Text']"
   ]
  },
  {
   "cell_type": "markdown",
   "metadata": {},
   "source": [
    "- Find the lowest rated business and return text of the most recent review.  If multiple business have the same rating, select the business with the least reviews."
   ]
  },
  {
   "cell_type": "code",
   "execution_count": 39,
   "metadata": {
    "scrolled": true
   },
   "outputs": [
    {
     "data": {
      "text/plain": [
       "id\n",
       "88WZx0N1p6uRgsqdyHeSrA    Covid convalescence. Great weekend treat.  Outdoor seating, grilling burgers and great drink options!!\n",
       "Name: Text, dtype: object"
      ]
     },
     "execution_count": 39,
     "metadata": {},
     "output_type": "execute_result"
    }
   ],
   "source": [
    "Final.loc[Final['rating']==Final['rating'].min()].sort_values(by='review count',ascending=True).head(1)['Text']"
   ]
  },
  {
   "cell_type": "markdown",
   "metadata": {},
   "source": [
    "# Reference help"
   ]
  },
  {
   "cell_type": "markdown",
   "metadata": {},
   "source": [
    "###  Pagination\n",
    "\n",
    "Returning to the Yelp API, the [documentation](https://www.yelp.com/developers/documentation/v3/business_search) also provides us details regarding the API limits. These often include details about the number of requests a user is allowed to make within a specified time limit and the maximum number of results to be returned. In this case, we are told that any request has a maximum of 50 results per request and defaults to 20. Furthermore, any search will be limited to a total of 1000 results. To retrieve all 1000 of these results, we would have to page through the results piece by piece, retriving 50 at a time. Processes such as these are often refered to as pagination.\n",
    "\n",
    "Now that you have an initial response, you can examine the contents of the json container. For example, you might start with ```response.json().keys()```. Here, you'll see a key for `'total'`, which tells you the full number of matching results given your query parameters. Write a loop (or ideally a function) which then makes successive API calls using the offset parameter to retrieve all of the results (or 5000 for a particularly large result set) for the original query. As you do this, be mindful of how you store the data. \n",
    "\n",
    "**Note: be mindful of the API rate limits. You can only make 5000 requests per day, and APIs can make requests too fast. Start prototyping small before running a loop that could be faulty. You can also use time.sleep(n) to add delays. For more details see https://www.yelp.com/developers/documentation/v3/rate_limiting.**"
   ]
  },
  {
   "cell_type": "markdown",
   "metadata": {},
   "source": [
    "***Below is sample code that you can use to help you deal with the pagination parameter and bring all of the functions together.***\n",
    "\n",
    "\n",
    "***Also, something might cause your code to break while it is running. You don't want to constantly repull the same data when this happens, so you should insert the data into the database as you call and parse it, not after you have all of the data***\n"
   ]
  },
  {
   "cell_type": "code",
   "execution_count": null,
   "metadata": {},
   "outputs": [],
   "source": [
    "# create a variable  to keep track of which result you are in. \n",
    "cur = 0\n",
    "\n",
    "#set up a while loop to go through and grab the result \n",
    "while cur < num and cur < 1000:\n",
    "    #set the offset parameter to be where you currently are in the results \n",
    "    url_params['offset'] = cur\n",
    "    #make your API call with the new offset number\n",
    "    results = yelp_call(url_params, api_key)\n",
    "    \n",
    "    #after you get your results you can now use your function to parse those results\n",
    "    parsed_results = parse_results(results)\n",
    "    \n",
    "    # use your function to insert your parsed results into the db\n",
    "    db_insert(parsed_results)\n",
    "    #increment the counter by 50 to move on to the next results\n",
    "    cur += 20"
   ]
  },
  {
   "cell_type": "code",
   "execution_count": null,
   "metadata": {},
   "outputs": [],
   "source": []
  }
 ],
 "metadata": {
  "kernelspec": {
   "display_name": "Python 3",
   "language": "python",
   "name": "python3"
  },
  "language_info": {
   "codemirror_mode": {
    "name": "ipython",
    "version": 3
   },
   "file_extension": ".py",
   "mimetype": "text/x-python",
   "name": "python",
   "nbconvert_exporter": "python",
   "pygments_lexer": "ipython3",
   "version": "3.8.5"
  },
  "toc": {
   "base_numbering": 1,
   "nav_menu": {},
   "number_sections": false,
   "sideBar": true,
   "skip_h1_title": false,
   "title_cell": "Table of Contents",
   "title_sidebar": "Contents",
   "toc_cell": false,
   "toc_position": {},
   "toc_section_display": true,
   "toc_window_display": false
  }
 },
 "nbformat": 4,
 "nbformat_minor": 2
}
